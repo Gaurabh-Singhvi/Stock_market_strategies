{
 "cells": [
  {
   "cell_type": "code",
   "execution_count": 1,
   "id": "a2c24a5d",
   "metadata": {},
   "outputs": [],
   "source": [
    "import pandas as pd"
   ]
  },
  {
   "cell_type": "code",
   "execution_count": null,
   "id": "0c4e7e25",
   "metadata": {},
   "outputs": [],
   "source": [
    "def get_list_of_stocks():\n",
    "    \n",
    "    equity = pd.read_csv(r'C:\\Users\\40100171\\OneDrive - Anheuser-Busch InBev\\Desktop\\Stock_market_strategies\\data\\config\\EQUITY_L.csv')\n",
    "    sme = pd.read_csv(r'C:\\Users\\40100171\\OneDrive - Anheuser-Busch InBev\\Desktop\\Stock_market_strategies\\data\\config\\SME_EQUITY_L.csv')\n",
    "    \n",
    "    equity = equity.rename(columns={' DATE OF LISTING':'DATE OF LISTING'})\n",
    "    equity = equity[['SYMBOL','DATE OF LISTING']]\n",
    "    sme = sme.rename(columns={'DATE_OF_LISTING':'DATE OF LISTING'})\n",
    "    sme = sme[['SYMBOL','DATE OF LISTING']]\n",
    "    final_list = pd.concat([equity,sme], ignore_index=True)\n",
    "    return final_list"
   ]
  },
  {
   "cell_type": "code",
   "execution_count": null,
   "id": "77e65867",
   "metadata": {},
   "outputs": [],
   "source": []
  }
 ],
 "metadata": {
  "kernelspec": {
   "display_name": "Python 3 (ipykernel)",
   "language": "python",
   "name": "python3"
  },
  "language_info": {
   "codemirror_mode": {
    "name": "ipython",
    "version": 3
   },
   "file_extension": ".py",
   "mimetype": "text/x-python",
   "name": "python",
   "nbconvert_exporter": "python",
   "pygments_lexer": "ipython3",
   "version": "3.11.8"
  }
 },
 "nbformat": 4,
 "nbformat_minor": 5
}
