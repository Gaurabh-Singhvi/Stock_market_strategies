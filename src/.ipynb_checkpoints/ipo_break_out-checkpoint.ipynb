{
 "cells": [
  {
   "cell_type": "code",
   "execution_count": 57,
   "id": "ad6ee4fe",
   "metadata": {},
   "outputs": [
    {
     "data": {
      "text/plain": [
       "<module 'data_cleaner' (<_frozen_importlib_external.NamespaceLoader object at 0x000001BCC635DFD0>)>"
      ]
     },
     "execution_count": 57,
     "metadata": {},
     "output_type": "execute_result"
    }
   ],
   "source": [
    "import nbimporter\n",
    "import pandas as pd\n",
    "import numpy as np\n",
    "import warnings\n",
    "import data_cleaner\n",
    "warnings.filterwarnings('ignore')\n",
    "from importlib import reload\n",
    "reload(data_cleaner)"
   ]
  },
  {
   "cell_type": "code",
   "execution_count": 51,
   "id": "9cc0f2ef",
   "metadata": {},
   "outputs": [],
   "source": [
    "raw_data = pd.read_csv(r'C:\\Users\\40100171\\OneDrive - Anheuser-Busch InBev\\Desktop\\Stock_market_strategies\\data\\raw\\stock_data_raw.csv.gz', compression='gzip')"
   ]
  },
  {
   "cell_type": "code",
   "execution_count": 58,
   "id": "f95d9135",
   "metadata": {},
   "outputs": [
    {
     "ename": "AttributeError",
     "evalue": "module 'data_cleaner' has no attribute 'raw_data_cleaner'",
     "output_type": "error",
     "traceback": [
      "\u001b[1;31m---------------------------------------------------------------------------\u001b[0m",
      "\u001b[1;31mAttributeError\u001b[0m                            Traceback (most recent call last)",
      "Cell \u001b[1;32mIn[58], line 1\u001b[0m\n\u001b[1;32m----> 1\u001b[0m clean_data \u001b[38;5;241m=\u001b[39m data_cleaner\u001b[38;5;241m.\u001b[39mraw_data_cleaner(raw_data)\n",
      "\u001b[1;31mAttributeError\u001b[0m: module 'data_cleaner' has no attribute 'raw_data_cleaner'"
     ]
    }
   ],
   "source": [
    "clean_data = data_cleaner.raw_data_cleaner(raw_data)"
   ]
  },
  {
   "cell_type": "code",
   "execution_count": 43,
   "id": "020654ad",
   "metadata": {},
   "outputs": [],
   "source": [
    "ipo_listing_data = pd.read_csv(r'C:\\Users\\40100171\\OneDrive - Anheuser-Busch InBev\\Desktop\\Stock_market_strategies\\data\\config\\IPO-PastIssue-23-Aug-2024.csv')\n",
    "ipo_listing_data = clean_ipo_symbol_data(ipo_listing_data)"
   ]
  },
  {
   "cell_type": "code",
   "execution_count": null,
   "id": "5cb96957",
   "metadata": {},
   "outputs": [],
   "source": []
  }
 ],
 "metadata": {
  "kernelspec": {
   "display_name": "Python 3 (ipykernel)",
   "language": "python",
   "name": "python3"
  },
  "language_info": {
   "codemirror_mode": {
    "name": "ipython",
    "version": 3
   },
   "file_extension": ".py",
   "mimetype": "text/x-python",
   "name": "python",
   "nbconvert_exporter": "python",
   "pygments_lexer": "ipython3",
   "version": "3.11.8"
  }
 },
 "nbformat": 4,
 "nbformat_minor": 5
}
