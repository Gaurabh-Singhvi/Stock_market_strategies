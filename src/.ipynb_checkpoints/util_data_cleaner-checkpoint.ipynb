{
 "cells": [
  {
   "cell_type": "code",
   "execution_count": 2,
   "id": "b75c10cf",
   "metadata": {},
   "outputs": [],
   "source": [
    "import pandas as pd\n",
    "import numpy as np"
   ]
  },
  {
   "cell_type": "code",
   "execution_count": 3,
   "id": "86673dcf",
   "metadata": {},
   "outputs": [],
   "source": [
    "def raw_data_cleaner(raw_data):\n",
    "    raw_data['Date'] = pd.to_datetime(raw_data['Date'], format='mixed')\n",
    "    raw_data = raw_data.drop_duplicates(subset =['Open', 'High', 'Low', 'Close'], ignore_index=True, keep='last')\n",
    "    return(raw_data)"
   ]
  },
  {
   "cell_type": "code",
   "execution_count": 6,
   "id": "644efba0",
   "metadata": {},
   "outputs": [],
   "source": [
    "def clean_ipo_symbol_data(ipo_listing_data):\n",
    "    ipo_listing_data['SYMBOL'] = ipo_listing_data['SYMBOL'].apply(lambda x: str(x.lower()) + '.NS')\n",
    "    ipo_listing_data['DATE OF LISTING'] = ipo_listing_data['DATE OF LISTING'].replace('-', np.nan)\n",
    "    ipo_listing_data = ipo_listing_data.dropna()\n",
    "    ipo_listing_data['DATE OF LISTING'] = pd.to_datetime(ipo_listing_data['DATE OF LISTING'])\n",
    "    return(ipo_listing_data)"
   ]
  },
  {
   "cell_type": "code",
   "execution_count": null,
   "id": "606d73ee",
   "metadata": {},
   "outputs": [],
   "source": []
  }
 ],
 "metadata": {
  "kernelspec": {
   "display_name": "Python 3 (ipykernel)",
   "language": "python",
   "name": "python3"
  },
  "language_info": {
   "codemirror_mode": {
    "name": "ipython",
    "version": 3
   },
   "file_extension": ".py",
   "mimetype": "text/x-python",
   "name": "python",
   "nbconvert_exporter": "python",
   "pygments_lexer": "ipython3",
   "version": "3.11.8"
  }
 },
 "nbformat": 4,
 "nbformat_minor": 5
}
