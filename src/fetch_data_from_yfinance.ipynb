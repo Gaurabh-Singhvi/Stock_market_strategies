{
 "cells": [
  {
   "cell_type": "code",
   "execution_count": 51,
   "id": "57d79016",
   "metadata": {},
   "outputs": [],
   "source": [
    "import yfinance as yf\n",
    "import pandas as pd\n",
    "import numpy as np\n",
    "import warnings\n",
    "warnings.filterwarnings(\"ignore\")"
   ]
  },
  {
   "cell_type": "code",
   "execution_count": 52,
   "id": "acfffc12",
   "metadata": {},
   "outputs": [],
   "source": [
    "def read_stock_universe_and_preprocess():\n",
    "    stock_data_uni = pd.read_csv(r'C:\\Users\\40100171\\OneDrive - Anheuser-Busch InBev\\Desktop\\Technical_Analysis_automated\\data\\config\\full_universe_nse_bse.csv')\n",
    "    list_of_stocks = stock_data_uni.loc[~(stock_data_uni['Symbol'].isna()),]['Symbol'].tolist()\n",
    "    list_of_stocks = [i+\".NS\" for i in list_of_stocks]\n",
    "    return(list_of_stocks)"
   ]
  },
  {
   "cell_type": "code",
   "execution_count": 53,
   "id": "a086689b",
   "metadata": {},
   "outputs": [],
   "source": [
    "def data_puller(x, start_date, end_date, interval):\n",
    "    df = yf.download(x, start=start_date, end=end_date, interval=interval, progress = False)\n",
    "    df['Stock Name'] = x\n",
    "    return(df)"
   ]
  },
  {
   "cell_type": "code",
   "execution_count": 54,
   "id": "6fa08857",
   "metadata": {},
   "outputs": [],
   "source": [
    "def execute_data_pull():\n",
    "    full_data = pd.DataFrame()\n",
    "    list_of_stocks = read_stock_universe_and_preprocess()\n",
    "    \n",
    "    for i in list_of_stocks[:10]:\n",
    "        df = data_puller(i, start_date, end_date, interval)\n",
    "        full_data = pd.concat([full_data, df])\n",
    "    \n",
    "    full_data.to_csv(r'C:\\Users\\40100171\\OneDrive - Anheuser-Busch InBev\\Desktop\\Technical_Analysis_automated\\data\\raw\\stock_data_raw.csv', index=False)"
   ]
  },
  {
   "cell_type": "code",
   "execution_count": 55,
   "id": "f8e087e1",
   "metadata": {},
   "outputs": [],
   "source": [
    "### inputs\n",
    "start_date = '2024-01-01'\n",
    "end_date = '2024-08-15'\n",
    "interval = '1wk'"
   ]
  },
  {
   "cell_type": "code",
   "execution_count": 56,
   "id": "7231518d",
   "metadata": {},
   "outputs": [],
   "source": [
    "execute_data_pull()"
   ]
  },
  {
   "cell_type": "code",
   "execution_count": null,
   "id": "68a23452",
   "metadata": {},
   "outputs": [],
   "source": []
  }
 ],
 "metadata": {
  "kernelspec": {
   "display_name": "Python 3 (ipykernel)",
   "language": "python",
   "name": "python3"
  },
  "language_info": {
   "codemirror_mode": {
    "name": "ipython",
    "version": 3
   },
   "file_extension": ".py",
   "mimetype": "text/x-python",
   "name": "python",
   "nbconvert_exporter": "python",
   "pygments_lexer": "ipython3",
   "version": "3.11.8"
  }
 },
 "nbformat": 4,
 "nbformat_minor": 5
}
