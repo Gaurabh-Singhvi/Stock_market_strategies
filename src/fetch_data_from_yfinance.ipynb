{
 "cells": [
  {
   "cell_type": "code",
   "execution_count": 7,
   "id": "57d79016",
   "metadata": {},
   "outputs": [
    {
     "data": {
      "text/plain": [
       "<module 'stock_list' from 'stock_list.ipynb'>"
      ]
     },
     "execution_count": 7,
     "metadata": {},
     "output_type": "execute_result"
    }
   ],
   "source": [
    "import nbimporter\n",
    "import yfinance as yf\n",
    "import pandas as pd\n",
    "import numpy as np\n",
    "import warnings\n",
    "import stock_list\n",
    "from datetime import date\n",
    "warnings.filterwarnings(\"ignore\")\n",
    "from importlib import reload\n",
    "reload(stock_list)"
   ]
  },
  {
   "cell_type": "code",
   "execution_count": 8,
   "id": "67ec3a8a",
   "metadata": {},
   "outputs": [],
   "source": [
    "stock_universe = stock_list.get_list_of_stocks()"
   ]
  },
  {
   "cell_type": "code",
   "execution_count": 9,
   "id": "a086689b",
   "metadata": {},
   "outputs": [],
   "source": [
    "def data_puller(x, start_date, end_date, interval):\n",
    "    df = yf.download(x, start=start_date, end=end_date, interval=interval, progress = False)\n",
    "    df['Stock Name'] = x\n",
    "    return(df)"
   ]
  },
  {
   "cell_type": "code",
   "execution_count": 10,
   "id": "6fa08857",
   "metadata": {},
   "outputs": [],
   "source": [
    "def execute_data_pull(list_of_stocks, start_date, end_date = date.today(), interval='1d'):\n",
    "    inter_data = []\n",
    "    list_of_stocks = [i.lower() +\".NS\" for i in list_of_stocks]\n",
    "    \n",
    "    for i in list_of_stocks:\n",
    "        df = data_puller(i, start_date, end_date, interval)\n",
    "        inter_data.append(df)\n",
    "    \n",
    "    full_data = pd.concat(inter_data)\n",
    "    full_data.reset_index(inplace=True)\n",
    "    return full_data"
   ]
  },
  {
   "cell_type": "code",
   "execution_count": 17,
   "id": "7231518d",
   "metadata": {},
   "outputs": [
    {
     "name": "stderr",
     "output_type": "stream",
     "text": [
      "\n",
      "1 Failed download:\n",
      "['BALCO.NS']: Exception('%ticker%: No timezone found, symbol may be delisted')\n",
      "\n",
      "1 Failed download:\n",
      "['SUNLITE.NS']: Exception('%ticker%: No timezone found, symbol may be delisted')\n",
      "\n",
      "1 Failed download:\n",
      "['POSITRON.NS']: Exception('%ticker%: No timezone found, symbol may be delisted')\n",
      "\n",
      "1 Failed download:\n",
      "['AESTHETIK.NS']: Exception('%ticker%: No timezone found, symbol may be delisted')\n",
      "\n",
      "1 Failed download:\n",
      "['PPSL.NS']: Exception('%ticker%: No timezone found, symbol may be delisted')\n",
      "\n",
      "1 Failed download:\n",
      "['DHARIWAL.NS']: Exception('%ticker%: No timezone found, symbol may be delisted')\n",
      "\n",
      "1 Failed download:\n",
      "['UTSSAV.NS']: Exception('%ticker%: No timezone found, symbol may be delisted')\n",
      "\n",
      "1 Failed download:\n",
      "['ASHALOG.NS']: Exception('%ticker%: No timezone found, symbol may be delisted')\n",
      "\n",
      "1 Failed download:\n",
      "['BULKCORP.NS']: Exception('%ticker%: No timezone found, symbol may be delisted')\n",
      "\n",
      "1 Failed download:\n",
      "['SSEGL.NS']: Exception('%ticker%: No timezone found, symbol may be delisted')\n",
      "\n",
      "1 Failed download:\n",
      "['RAJINDLTD.NS']: Exception('%ticker%: No timezone found, symbol may be delisted')\n",
      "\n",
      "1 Failed download:\n",
      "['ESPRIT.NS']: Exception('%ticker%: No timezone found, symbol may be delisted')\n",
      "\n",
      "1 Failed download:\n",
      "['SATECH.NS']: Exception('%ticker%: No timezone found, symbol may be delisted')\n",
      "\n",
      "1 Failed download:\n",
      "['TROM.NS']: Exception('%ticker%: No timezone found, symbol may be delisted')\n",
      "\n",
      "1 Failed download:\n",
      "['APRAMEYA.NS']: Exception('%ticker%: No timezone found, symbol may be delisted')\n",
      "\n",
      "1 Failed download:\n",
      "['CHETANA.NS']: Exception('%ticker%: No timezone found, symbol may be delisted')\n",
      "\n",
      "1 Failed download:\n",
      "['MIEL.NS']: Exception('%ticker%: No timezone found, symbol may be delisted')\n",
      "\n",
      "1 Failed download:\n",
      "['VLINFRA.NS']: Exception('%ticker%: No timezone found, symbol may be delisted')\n",
      "\n",
      "1 Failed download:\n",
      "['RNFI.NS']: Exception('%ticker%: No timezone found, symbol may be delisted')\n",
      "\n",
      "1 Failed download:\n",
      "['KATARIA.NS']: Exception('%ticker%: No timezone found, symbol may be delisted')\n",
      "\n",
      "1 Failed download:\n",
      "['MACOBSTECH.NS']: Exception('%ticker%: No timezone found, symbol may be delisted')\n",
      "\n",
      "1 Failed download:\n",
      "['DRSCARGO.NS']: Exception('%ticker%: No timezone found, symbol may be delisted')\n",
      "\n",
      "1 Failed download:\n",
      "['AKANKSHA.NS']: Exception('%ticker%: No timezone found, symbol may be delisted')\n",
      "\n",
      "1 Failed download:\n",
      "['ARHAM.NS']: Exception('%ticker%: No timezone found, symbol may be delisted')\n",
      "\n",
      "1 Failed download:\n",
      "['RICHA.NS']: Exception('%ticker%: No timezone found, symbol may be delisted')\n",
      "\n",
      "1 Failed download:\n",
      "['FOCE.NS']: Exception('%ticker%: No timezone found, symbol may be delisted')\n",
      "\n",
      "1 Failed download:\n",
      "['AMBANIORGO.NS']: Exception('%ticker%: No timezone found, symbol may be delisted')\n",
      "\n",
      "1 Failed download:\n",
      "['SOLEX.NS']: Exception('%ticker%: No timezone found, symbol may be delisted')\n"
     ]
    }
   ],
   "source": [
    "#monthly_data = execute_data_pull(stock_universe['SYMBOL'].tolist(), start_date = '2020-01-01', end_date = date.today(), interval = '1mo')\n",
    "weekly_data = execute_data_pull(stock_universe['SYMBOL'].tolist(), start_date = '2020-01-01', end_date = date.today(), interval = '1wk')\n",
    "#daily_data = execute_data_pull(stock_universe['SYMBOL'].tolist(), start_date = '2020-01-01', end_date = date.today(), interval = '1d')"
   ]
  },
  {
   "cell_type": "code",
   "execution_count": 19,
   "id": "68a23452",
   "metadata": {},
   "outputs": [],
   "source": [
    "#monthly_data.to_csv(r'C:\\Users\\40100171\\OneDrive - Anheuser-Busch InBev\\Desktop\\Stock_market_strategies\\data\\raw\\monthly_raw.csv.gz', index=False, compression = 'gzip')\n",
    "weekly_data.to_csv(r'C:\\Users\\40100171\\OneDrive - Anheuser-Busch InBev\\Desktop\\Stock_market_strategies\\data\\raw\\weekly_raw.csv.gz', index=False, compression = 'gzip')\n",
    "#daily_data.to_csv(r'C:\\Users\\40100171\\OneDrive - Anheuser-Busch InBev\\Desktop\\Stock_market_strategies\\data\\raw\\daily_raw.csv.gz', index=False, compression = 'gzip')"
   ]
  },
  {
   "cell_type": "code",
   "execution_count": null,
   "id": "b84fe1df",
   "metadata": {},
   "outputs": [],
   "source": []
  }
 ],
 "metadata": {
  "kernelspec": {
   "display_name": "Python 3 (ipykernel)",
   "language": "python",
   "name": "python3"
  },
  "language_info": {
   "codemirror_mode": {
    "name": "ipython",
    "version": 3
   },
   "file_extension": ".py",
   "mimetype": "text/x-python",
   "name": "python",
   "nbconvert_exporter": "python",
   "pygments_lexer": "ipython3",
   "version": "3.11.8"
  }
 },
 "nbformat": 4,
 "nbformat_minor": 5
}
