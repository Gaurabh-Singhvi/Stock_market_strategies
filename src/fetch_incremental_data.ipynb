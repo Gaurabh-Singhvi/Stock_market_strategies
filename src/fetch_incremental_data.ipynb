{
 "cells": [
  {
   "cell_type": "code",
   "execution_count": 15,
   "id": "d28aca37",
   "metadata": {},
   "outputs": [],
   "source": [
    "import pandas as pd\n",
    "import numpy as np\n",
    "from datetime import date, timedelta\n",
    "import nbimporter\n",
    "from fetch_data_from_yfinance import data_puller\n",
    "import util_data_cleaner\n",
    "import warnings\n",
    "warnings.filterwarnings(\"ignore\")"
   ]
  },
  {
   "cell_type": "code",
   "execution_count": 2,
   "id": "08a9d7b5",
   "metadata": {},
   "outputs": [],
   "source": [
    "def detect_frequency(date_df):\n",
    "    date_diffs = date_df.diff().dropna()\n",
    "    median_diff = date_diffs.median()\n",
    "    \n",
    "    daily_threshold = pd.Timedelta(days=1.5)\n",
    "    weekly_threshold = pd.Timedelta(weeks=1.5)\n",
    "    \n",
    "    # Determine frequency based on the median difference\n",
    "    if median_diff <= daily_threshold:\n",
    "        return('1d')\n",
    "    elif median_diff <= weekly_threshold:\n",
    "        return('1wk')\n",
    "    else:\n",
    "        return('1mo')"
   ]
  },
  {
   "cell_type": "code",
   "execution_count": 36,
   "id": "d6b82817",
   "metadata": {},
   "outputs": [],
   "source": [
    "def adding_incremental_data():\n",
    "    \n",
    "    existing_data = pd.read_csv(r'C:\\Users\\40100171\\OneDrive - Anheuser-Busch InBev\\Desktop\\Stock_market_strategies\\data\\raw\\stock_data_raw.csv.gz', compression='gzip')\n",
    "    existing_data = util_data_cleaner.raw_data_cleaner(existing_data)\n",
    "    stock_universe = existing_data['Stock Name'].unique().tolist()\n",
    "    dates = pd.to_datetime(existing_data.loc[existing_data['Stock Name']==stock_universe[0],'Date'])\n",
    "    \n",
    "    start_date = dates.max() + timedelta(days=1) \n",
    "    end_date = date.today()\n",
    "    interval = detect_frequency(dates)\n",
    "    inter_df = []\n",
    "    \n",
    "    if(start_date != end_date):\n",
    "        for i in stock_universe:\n",
    "            df = data_puller(i, start_date, end_date, interval)\n",
    "            df.reset_index(inplace=True)\n",
    "            inter_df.append(df)\n",
    "        final_data = pd.concat(inter_df)\n",
    "        final_data = pd.concat([existing_data, final_data])\n",
    "        final_data.reset_index(inplace=True)\n",
    "        final_data.to_csv(r'C:\\Users\\40100171\\OneDrive - Anheuser-Busch InBev\\Desktop\\Stock_market_strategies\\data\\raw\\stock_data_raw.csv.gz', index=False, compression='gzip')"
   ]
  },
  {
   "cell_type": "code",
   "execution_count": 37,
   "id": "8ba163e0",
   "metadata": {},
   "outputs": [
    {
     "name": "stderr",
     "output_type": "stream",
     "text": [
      "\n",
      "1 Failed download:\n",
      "['SICALLOG.NS']: Exception('%ticker%: No price data found, symbol may be delisted (1d 2024-08-20 00:00:00 -> 2024-08-23)')\n"
     ]
    }
   ],
   "source": [
    "adding_incremental_data()"
   ]
  },
  {
   "cell_type": "code",
   "execution_count": null,
   "id": "5af4125b",
   "metadata": {},
   "outputs": [],
   "source": []
  }
 ],
 "metadata": {
  "kernelspec": {
   "display_name": "Python 3 (ipykernel)",
   "language": "python",
   "name": "python3"
  },
  "language_info": {
   "codemirror_mode": {
    "name": "ipython",
    "version": 3
   },
   "file_extension": ".py",
   "mimetype": "text/x-python",
   "name": "python",
   "nbconvert_exporter": "python",
   "pygments_lexer": "ipython3",
   "version": "3.11.8"
  }
 },
 "nbformat": 4,
 "nbformat_minor": 5
}
