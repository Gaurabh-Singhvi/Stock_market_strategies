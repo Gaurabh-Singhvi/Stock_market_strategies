{
 "cells": [
  {
   "cell_type": "code",
   "execution_count": 18,
   "id": "85755db9",
   "metadata": {},
   "outputs": [],
   "source": [
    "import pandas as pd\n",
    "import numpy as np\n",
    "from datetime import date"
   ]
  },
  {
   "cell_type": "code",
   "execution_count": 36,
   "id": "7756e12a",
   "metadata": {},
   "outputs": [],
   "source": [
    "read_existing_data = pd.read_csv(r'C:\\Users\\40100171\\OneDrive - Anheuser-Busch InBev\\Desktop\\Technical_Analysis_automated\\data\\raw\\stock_data_raw.csv.gz', compression='gzip')"
   ]
  },
  {
   "cell_type": "code",
   "execution_count": 9,
   "id": "8ad65145",
   "metadata": {},
   "outputs": [],
   "source": [
    "stock_universe = read_existing_data['Stock Name'].unique().tolist()"
   ]
  },
  {
   "cell_type": "code",
   "execution_count": 25,
   "id": "60740c05",
   "metadata": {},
   "outputs": [],
   "source": [
    "start_date = pd.to_datetime(read_existing_data.loc[read_existing_data['Stock Name']==stock_universe[0],'Date'].max())"
   ]
  },
  {
   "cell_type": "code",
   "execution_count": 26,
   "id": "d46dcdce",
   "metadata": {},
   "outputs": [
    {
     "data": {
      "text/plain": [
       "Timestamp('2024-08-14 00:00:00')"
      ]
     },
     "execution_count": 26,
     "metadata": {},
     "output_type": "execute_result"
    }
   ],
   "source": [
    "start_date"
   ]
  },
  {
   "cell_type": "code",
   "execution_count": 28,
   "id": "2399f4f2",
   "metadata": {},
   "outputs": [],
   "source": [
    "check = pd.to_datetime(read_existing_data.loc[read_existing_data['Stock Name']==stock_universe[0],'Date'])\n",
    "delta = check[1] - check[0]"
   ]
  },
  {
   "cell_type": "code",
   "execution_count": 38,
   "id": "668e7ce0",
   "metadata": {},
   "outputs": [],
   "source": [
    "def detect_frequency(date_df):\n",
    "    date_diffs = date_df.diff().dropna()\n",
    "    median_diff = date_diffs.median()\n",
    "    \n",
    "    daily_threshold = pd.Timedelta(days=1.5)\n",
    "    weekly_threshold = pd.Timedelta(weeks=1.5)\n",
    "    \n",
    "    # Determine frequency based on the median difference\n",
    "    if median_diff <= daily_threshold:\n",
    "        return('1d')\n",
    "    elif median_diff <= weekly_threshold:\n",
    "        return('1wk')\n",
    "    else:\n",
    "        return('1mo')"
   ]
  },
  {
   "cell_type": "code",
   "execution_count": 7,
   "id": "35f85346",
   "metadata": {},
   "outputs": [
    {
     "ename": "KeyError",
     "evalue": "'Stock name'",
     "output_type": "error",
     "traceback": [
      "\u001b[1;31m---------------------------------------------------------------------------\u001b[0m",
      "\u001b[1;31mKeyError\u001b[0m                                  Traceback (most recent call last)",
      "File \u001b[1;32m~\\AppData\\Roaming\\Python\\Python311\\site-packages\\pandas\\core\\indexes\\base.py:3805\u001b[0m, in \u001b[0;36mIndex.get_loc\u001b[1;34m(self, key)\u001b[0m\n\u001b[0;32m   3804\u001b[0m \u001b[38;5;28;01mtry\u001b[39;00m:\n\u001b[1;32m-> 3805\u001b[0m     \u001b[38;5;28;01mreturn\u001b[39;00m \u001b[38;5;28mself\u001b[39m\u001b[38;5;241m.\u001b[39m_engine\u001b[38;5;241m.\u001b[39mget_loc(casted_key)\n\u001b[0;32m   3806\u001b[0m \u001b[38;5;28;01mexcept\u001b[39;00m \u001b[38;5;167;01mKeyError\u001b[39;00m \u001b[38;5;28;01mas\u001b[39;00m err:\n",
      "File \u001b[1;32mindex.pyx:167\u001b[0m, in \u001b[0;36mpandas._libs.index.IndexEngine.get_loc\u001b[1;34m()\u001b[0m\n",
      "File \u001b[1;32mindex.pyx:196\u001b[0m, in \u001b[0;36mpandas._libs.index.IndexEngine.get_loc\u001b[1;34m()\u001b[0m\n",
      "File \u001b[1;32mpandas\\\\_libs\\\\hashtable_class_helper.pxi:7081\u001b[0m, in \u001b[0;36mpandas._libs.hashtable.PyObjectHashTable.get_item\u001b[1;34m()\u001b[0m\n",
      "File \u001b[1;32mpandas\\\\_libs\\\\hashtable_class_helper.pxi:7089\u001b[0m, in \u001b[0;36mpandas._libs.hashtable.PyObjectHashTable.get_item\u001b[1;34m()\u001b[0m\n",
      "\u001b[1;31mKeyError\u001b[0m: 'Stock name'",
      "\nThe above exception was the direct cause of the following exception:\n",
      "\u001b[1;31mKeyError\u001b[0m                                  Traceback (most recent call last)",
      "Cell \u001b[1;32mIn[7], line 1\u001b[0m\n\u001b[1;32m----> 1\u001b[0m stock_universe \u001b[38;5;241m=\u001b[39m read_existing_data[\u001b[38;5;124m'\u001b[39m\u001b[38;5;124mStock name\u001b[39m\u001b[38;5;124m'\u001b[39m]\u001b[38;5;241m.\u001b[39munique()\u001b[38;5;241m.\u001b[39mtolist()\n",
      "File \u001b[1;32m~\\AppData\\Roaming\\Python\\Python311\\site-packages\\pandas\\core\\frame.py:4102\u001b[0m, in \u001b[0;36mDataFrame.__getitem__\u001b[1;34m(self, key)\u001b[0m\n\u001b[0;32m   4100\u001b[0m \u001b[38;5;28;01mif\u001b[39;00m \u001b[38;5;28mself\u001b[39m\u001b[38;5;241m.\u001b[39mcolumns\u001b[38;5;241m.\u001b[39mnlevels \u001b[38;5;241m>\u001b[39m \u001b[38;5;241m1\u001b[39m:\n\u001b[0;32m   4101\u001b[0m     \u001b[38;5;28;01mreturn\u001b[39;00m \u001b[38;5;28mself\u001b[39m\u001b[38;5;241m.\u001b[39m_getitem_multilevel(key)\n\u001b[1;32m-> 4102\u001b[0m indexer \u001b[38;5;241m=\u001b[39m \u001b[38;5;28mself\u001b[39m\u001b[38;5;241m.\u001b[39mcolumns\u001b[38;5;241m.\u001b[39mget_loc(key)\n\u001b[0;32m   4103\u001b[0m \u001b[38;5;28;01mif\u001b[39;00m is_integer(indexer):\n\u001b[0;32m   4104\u001b[0m     indexer \u001b[38;5;241m=\u001b[39m [indexer]\n",
      "File \u001b[1;32m~\\AppData\\Roaming\\Python\\Python311\\site-packages\\pandas\\core\\indexes\\base.py:3812\u001b[0m, in \u001b[0;36mIndex.get_loc\u001b[1;34m(self, key)\u001b[0m\n\u001b[0;32m   3807\u001b[0m     \u001b[38;5;28;01mif\u001b[39;00m \u001b[38;5;28misinstance\u001b[39m(casted_key, \u001b[38;5;28mslice\u001b[39m) \u001b[38;5;129;01mor\u001b[39;00m (\n\u001b[0;32m   3808\u001b[0m         \u001b[38;5;28misinstance\u001b[39m(casted_key, abc\u001b[38;5;241m.\u001b[39mIterable)\n\u001b[0;32m   3809\u001b[0m         \u001b[38;5;129;01mand\u001b[39;00m \u001b[38;5;28many\u001b[39m(\u001b[38;5;28misinstance\u001b[39m(x, \u001b[38;5;28mslice\u001b[39m) \u001b[38;5;28;01mfor\u001b[39;00m x \u001b[38;5;129;01min\u001b[39;00m casted_key)\n\u001b[0;32m   3810\u001b[0m     ):\n\u001b[0;32m   3811\u001b[0m         \u001b[38;5;28;01mraise\u001b[39;00m InvalidIndexError(key)\n\u001b[1;32m-> 3812\u001b[0m     \u001b[38;5;28;01mraise\u001b[39;00m \u001b[38;5;167;01mKeyError\u001b[39;00m(key) \u001b[38;5;28;01mfrom\u001b[39;00m \u001b[38;5;21;01merr\u001b[39;00m\n\u001b[0;32m   3813\u001b[0m \u001b[38;5;28;01mexcept\u001b[39;00m \u001b[38;5;167;01mTypeError\u001b[39;00m:\n\u001b[0;32m   3814\u001b[0m     \u001b[38;5;66;03m# If we have a listlike key, _check_indexing_error will raise\u001b[39;00m\n\u001b[0;32m   3815\u001b[0m     \u001b[38;5;66;03m#  InvalidIndexError. Otherwise we fall through and re-raise\u001b[39;00m\n\u001b[0;32m   3816\u001b[0m     \u001b[38;5;66;03m#  the TypeError.\u001b[39;00m\n\u001b[0;32m   3817\u001b[0m     \u001b[38;5;28mself\u001b[39m\u001b[38;5;241m.\u001b[39m_check_indexing_error(key)\n",
      "\u001b[1;31mKeyError\u001b[0m: 'Stock name'"
     ]
    }
   ],
   "source": [
    "def adding_incremental_data()\n",
    "    \n",
    "    existing_data = pd.read_csv(r'C:\\Users\\40100171\\OneDrive - Anheuser-Busch InBev\\Desktop\\Technical_Analysis_automated\\data\\raw\\stock_data_raw.csv.gz', compression='gzip')\n",
    "    stock_universe = read_existing_data['Stock Name'].unique().tolist()\n",
    "    dates = pd.to_datetime(read_existing_data.loc[read_existing_data['Stock Name']==stock_universe[0],'Date'])\n",
    "    start_date = dates.max() \n",
    "    end_date = date.today()\n",
    "    interval = detect_frequency(dates)\n",
    "    full_data = pd.DataFrame()\n",
    "    \n",
    "    if(start_date == end_date):\n",
    "        file\n",
    "    \n",
    "    for i in stock_universe:\n",
    "        df = data_puller(i, start_date, end_date, interval)\n",
    "        existing_data = pd.concat([existing_data, df])\n",
    "    \n",
    "    existing_data.to_csv(r'C:\\Users\\40100171\\OneDrive - Anheuser-Busch InBev\\Desktop\\Technical_Analysis_automated\\data\\raw\\stock_data_raw.csv.gz', index=False, compression='gzip')\n",
    "    "
   ]
  },
  {
   "cell_type": "code",
   "execution_count": null,
   "id": "dd73603f",
   "metadata": {},
   "outputs": [],
   "source": []
  }
 ],
 "metadata": {
  "kernelspec": {
   "display_name": "Python 3 (ipykernel)",
   "language": "python",
   "name": "python3"
  },
  "language_info": {
   "codemirror_mode": {
    "name": "ipython",
    "version": 3
   },
   "file_extension": ".py",
   "mimetype": "text/x-python",
   "name": "python",
   "nbconvert_exporter": "python",
   "pygments_lexer": "ipython3",
   "version": "3.11.8"
  }
 },
 "nbformat": 4,
 "nbformat_minor": 5
}
