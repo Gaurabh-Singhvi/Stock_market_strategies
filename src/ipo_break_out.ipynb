{
 "cells": [
  {
   "cell_type": "code",
   "execution_count": 169,
   "id": "59ac8eb0",
   "metadata": {},
   "outputs": [],
   "source": [
    "import nbimporter\n",
    "import pandas as pd\n",
    "import numpy as np\n",
    "import warnings\n",
    "import util_data_cleaner\n",
    "import fetch_data_from_yfinance\n",
    "import stock_list\n",
    "warnings.filterwarnings('ignore')\n",
    "from importlib import reload\n",
    "reload(util_data_cleaner)\n",
    "reload(fetch_data_from_yfinance)\n",
    "reload(stock_list)\n",
    "from datetime import date\n",
    "import yfinance as yf"
   ]
  },
  {
   "cell_type": "code",
   "execution_count": 170,
   "id": "fd512e3a",
   "metadata": {},
   "outputs": [],
   "source": [
    "list_of_stocks = stock_list.get_list_of_stocks()\n",
    "ipo_listing = util_data_cleaner.clean_ipo_symbol_data(list_of_stocks)\n",
    "ipo_listing = ipo_listing.loc[ipo_listing['DATE OF LISTING']>='2020-01-01',]"
   ]
  },
  {
   "cell_type": "code",
   "execution_count": 176,
   "id": "70f26db3",
   "metadata": {},
   "outputs": [
    {
     "name": "stderr",
     "output_type": "stream",
     "text": [
      "\n",
      "1 Failed download:\n",
      "['BALCO.NS']: Exception('%ticker%: No timezone found, symbol may be delisted')\n",
      "\n",
      "1 Failed download:\n",
      "['SUNLITE.NS']: Exception('%ticker%: No timezone found, symbol may be delisted')\n",
      "\n",
      "1 Failed download:\n",
      "['POSITRON.NS']: Exception('%ticker%: No timezone found, symbol may be delisted')\n",
      "\n",
      "1 Failed download:\n",
      "['AESTHETIK.NS']: Exception('%ticker%: No timezone found, symbol may be delisted')\n",
      "\n",
      "1 Failed download:\n",
      "['PPSL.NS']: Exception('%ticker%: No timezone found, symbol may be delisted')\n",
      "\n",
      "1 Failed download:\n",
      "['DHARIWAL.NS']: Exception('%ticker%: No timezone found, symbol may be delisted')\n",
      "\n",
      "1 Failed download:\n",
      "['UTSSAV.NS']: Exception('%ticker%: No timezone found, symbol may be delisted')\n",
      "\n",
      "1 Failed download:\n",
      "['ASHALOG.NS']: Exception('%ticker%: No timezone found, symbol may be delisted')\n",
      "\n",
      "1 Failed download:\n",
      "['BULKCORP.NS']: Exception('%ticker%: No timezone found, symbol may be delisted')\n",
      "\n",
      "1 Failed download:\n",
      "['SSEGL.NS']: Exception('%ticker%: No timezone found, symbol may be delisted')\n",
      "\n",
      "1 Failed download:\n",
      "['RAJINDLTD.NS']: Exception('%ticker%: No timezone found, symbol may be delisted')\n",
      "\n",
      "1 Failed download:\n",
      "['ESPRIT.NS']: Exception('%ticker%: No timezone found, symbol may be delisted')\n",
      "\n",
      "1 Failed download:\n",
      "['SATECH.NS']: Exception('%ticker%: No timezone found, symbol may be delisted')\n",
      "\n",
      "1 Failed download:\n",
      "['TROM.NS']: Exception('%ticker%: No timezone found, symbol may be delisted')\n",
      "\n",
      "1 Failed download:\n",
      "['APRAMEYA.NS']: Exception('%ticker%: No timezone found, symbol may be delisted')\n",
      "\n",
      "1 Failed download:\n",
      "['CHETANA.NS']: Exception('%ticker%: No timezone found, symbol may be delisted')\n",
      "\n",
      "1 Failed download:\n",
      "['MIEL.NS']: Exception('%ticker%: No timezone found, symbol may be delisted')\n",
      "\n",
      "1 Failed download:\n",
      "['VLINFRA.NS']: Exception('%ticker%: No timezone found, symbol may be delisted')\n",
      "\n",
      "1 Failed download:\n",
      "['RNFI.NS']: Exception('%ticker%: No timezone found, symbol may be delisted')\n",
      "\n",
      "1 Failed download:\n",
      "['KATARIA.NS']: Exception('%ticker%: No timezone found, symbol may be delisted')\n",
      "\n",
      "1 Failed download:\n",
      "['MACOBSTECH.NS']: Exception('%ticker%: No timezone found, symbol may be delisted')\n",
      "\n",
      "1 Failed download:\n",
      "['DRSCARGO.NS']: Exception('%ticker%: No timezone found, symbol may be delisted')\n",
      "\n",
      "1 Failed download:\n",
      "['AKANKSHA.NS']: Exception('%ticker%: No timezone found, symbol may be delisted')\n",
      "\n",
      "1 Failed download:\n",
      "['ARHAM.NS']: Exception('%ticker%: No timezone found, symbol may be delisted')\n",
      "\n",
      "1 Failed download:\n",
      "['RICHA.NS']: Exception('%ticker%: No timezone found, symbol may be delisted')\n",
      "\n",
      "1 Failed download:\n",
      "['FOCE.NS']: Exception('%ticker%: No timezone found, symbol may be delisted')\n"
     ]
    }
   ],
   "source": [
    "b = []\n",
    "for stock in ipo_listing['SYMBOL'].tolist():\n",
    "    start_date = pd.to_datetime(ipo_listing.loc[ipo_listing['SYMBOL']==stock,'DATE OF LISTING'].values[0])\n",
    "    end_date = date.today()\n",
    "    interval = '1d'\n",
    "    a = fetch_data_from_yfinance.data_puller(stock, start_date, end_date, interval)\n",
    "    b.append(a)\n",
    "final_data = pd.concat(b)\n",
    "final_data.reset_index(inplace=True)"
   ]
  },
  {
   "cell_type": "code",
   "execution_count": 183,
   "id": "c2dc6567",
   "metadata": {},
   "outputs": [],
   "source": [
    "final_data.sort_values(by=['Stock Name', 'Date'], inplace=True)\n",
    "final_data['Ipo_price'] = final_data.groupby('Stock Name')['Adj Close'].transform('first')\n",
    "final_data['lower_bound'] = final_data['Ipo_price'] * 0.9\n",
    "final_data['upper_bound'] = final_data['Ipo_price'] * 1.1\n",
    "latest_close = final_data.groupby('Stock Name').tail(1)\n",
    "latest_close['to_filter'] = 0\n",
    "latest_close.loc[((latest_close['Adj Close'] >= latest_close['lower_bound']) & (latest_close['Adj Close'] <= latest_close['upper_bound'])),'to_filter'] = 1\n",
    "\n",
    "final_data['away_from_ipo_price'] = final_data['Adj Close']/final_data['Ipo_price'] - 1\n",
    "final_data['away_from_ipo_price_filter'] = final_data['away_from_ipo_price'].apply(lambda x: 1 if(x>0) else 0)\n",
    "inter = final_data.groupby(['Stock Name'])['away_from_ipo_price_filter'].sum().reset_index()\n",
    "latest_close = latest_close.merge(inter, how='left', on='Stock Name')"
   ]
  },
  {
   "cell_type": "code",
   "execution_count": 185,
   "id": "df0e3f17",
   "metadata": {},
   "outputs": [],
   "source": [
    "latest_close.to_csv(r'C:\\Users\\40100171\\OneDrive - Anheuser-Busch InBev\\Desktop\\Stock_market_strategies\\strategy results\\ipo_bo_23_aug_2024.csv', index=False)"
   ]
  },
  {
   "cell_type": "code",
   "execution_count": null,
   "id": "b5cdd66d",
   "metadata": {},
   "outputs": [],
   "source": []
  }
 ],
 "metadata": {
  "kernelspec": {
   "display_name": "Python 3 (ipykernel)",
   "language": "python",
   "name": "python3"
  },
  "language_info": {
   "codemirror_mode": {
    "name": "ipython",
    "version": 3
   },
   "file_extension": ".py",
   "mimetype": "text/x-python",
   "name": "python",
   "nbconvert_exporter": "python",
   "pygments_lexer": "ipython3",
   "version": "3.11.8"
  }
 },
 "nbformat": 4,
 "nbformat_minor": 5
}
