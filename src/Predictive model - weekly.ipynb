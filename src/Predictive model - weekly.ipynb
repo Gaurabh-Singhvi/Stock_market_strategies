{
 "cells": [
  {
   "cell_type": "code",
   "execution_count": 147,
   "id": "816a60e1",
   "metadata": {},
   "outputs": [],
   "source": [
    "import pandas as pd\n",
    "import numpy as np\n",
    "import sys\n",
    "sys.path.insert(0, r'C:\\Users\\40100171\\OneDrive - Anheuser-Busch InBev\\Desktop\\Stock_market_strategies')\n",
    "# Run the other notebook\n",
    "%run \"C:\\Users\\40100171\\OneDrive - Anheuser-Busch InBev\\Desktop\\Stock_market_strategies\\strategies_master.ipynb\"\n",
    "import ta\n",
    "\n",
    "from sklearn.model_selection import train_test_split\n",
    "from sklearn.ensemble import RandomForestClassifier\n",
    "from sklearn.metrics import accuracy_score, classification_report, confusion_matrix"
   ]
  },
  {
   "cell_type": "code",
   "execution_count": 36,
   "id": "7a5814eb",
   "metadata": {},
   "outputs": [],
   "source": [
    "daily_data = pd.read_csv(r'C:\\Users\\40100171\\OneDrive - Anheuser-Busch InBev\\Desktop\\Stock_market_strategies\\data\\raw\\stock_data_raw_daily.csv.gz', compression='gzip')\n",
    "weekly_data = pd.read_csv(r'C:\\Users\\40100171\\OneDrive - Anheuser-Busch InBev\\Desktop\\Stock_market_strategies\\data\\raw\\weekly_raw.csv.gz', compression='gzip')\n",
    "monthly_data = pd.read_csv(r'C:\\Users\\40100171\\OneDrive - Anheuser-Busch InBev\\Desktop\\Stock_market_strategies\\data\\raw\\monthly_raw.csv.gz', compression='gzip')"
   ]
  },
  {
   "cell_type": "code",
   "execution_count": 37,
   "id": "76fbada5",
   "metadata": {},
   "outputs": [],
   "source": [
    "weekly_model = weekly_data.copy()\n",
    "weekly_model['c/o'] = weekly_model['Adj Close']/weekly_model['Open']\n",
    "weekly_model['c/h'] = weekly_model['Adj Close']/weekly_model['High']\n",
    "weekly_model['c/l'] = weekly_model['Adj Close']/weekly_model['Low']\n",
    "\n",
    "weekly_model['Weekly_Return'] = weekly_model.groupby('Stock Name')['Adj Close'].pct_change(periods=1)\n",
    "weekly_model['Weekly_Return'] = weekly_model.groupby('Stock Name')['Weekly_Return'].shift(-1)\n",
    "weekly_model = weekly_model.loc[~(weekly_model['Weekly_Return'].isna()),]\n",
    "\n",
    "weekly_model['postive return'] = weekly_model['Weekly_Return'].apply(lambda x: 1 if(x>0) else 0)"
   ]
  },
  {
   "cell_type": "code",
   "execution_count": 127,
   "id": "0c67eb61",
   "metadata": {},
   "outputs": [],
   "source": [
    "weekly_model['rsi_weekly'] = 0\n",
    "for stock in weekly_model['Stock Name'].unique().tolist():\n",
    "    weekly_model.loc[weekly_model['Stock Name']==stock,'rsi_weekly'] = ta.momentum.rsi(weekly_model.loc[weekly_model['Stock Name']==stock,'Close'])\n",
    "\n",
    "weekly_model['rsi_weekly_shift_1'] = weekly_model.groupby('Stock Name')['rsi_weekly'].shift(1)\n",
    "weekly_model['rsi_weekly_shift_2'] = weekly_model.groupby('Stock Name')['rsi_weekly'].shift(2)\n",
    "weekly_model['rsi_weekly_shift_1'] = weekly_model['rsi_weekly']/weekly_model['rsi_weekly_shift_1']\n",
    "weekly_model['rsi_weekly_shift_2'] = weekly_model['rsi_weekly']/weekly_model['rsi_weekly_shift_2']\n",
    "\n",
    "weekly_model.replace([np.inf, -np.inf], np.nan, inplace=True)\n",
    "weekly_model.dropna(inplace=True)\n",
    "weekly_model.reset_index(drop=True, inplace=True)"
   ]
  },
  {
   "cell_type": "code",
   "execution_count": 176,
   "id": "7f616d5b",
   "metadata": {},
   "outputs": [],
   "source": [
    "Y = weekly_model['postive return']\n",
    "#X = weekly_model[['c/o', 'c/h', 'c/l','rsi_weekly', 'rsi_weekly_shift_1', 'rsi_weekly_shift_2']]\n",
    "X = weekly_model[['c/o', 'c/h', 'c/l','rsi_weekly']]"
   ]
  },
  {
   "cell_type": "code",
   "execution_count": 177,
   "id": "05f559c8",
   "metadata": {},
   "outputs": [],
   "source": [
    "X_train, X_test, y_train, y_test = train_test_split(X, Y, test_size=0.2, random_state=42)\n",
    "rf_classifier = RandomForestClassifier(n_estimators=100, random_state=42)\n",
    "rf_classifier.fit(X_train, y_train)\n",
    "y_pred = rf_classifier.predict(X_test)"
   ]
  },
  {
   "cell_type": "code",
   "execution_count": 178,
   "id": "b867a7a6",
   "metadata": {},
   "outputs": [
    {
     "name": "stdout",
     "output_type": "stream",
     "text": [
      "      Feature  Importance\n",
      "3  rsi_weekly    0.263486\n",
      "0         c/o    0.248659\n",
      "2         c/l    0.247754\n",
      "1         c/h    0.240100\n"
     ]
    }
   ],
   "source": [
    "# Feature Importance\n",
    "importances = rf_classifier.feature_importances_\n",
    "feature_names = X.columns\n",
    "\n",
    "# Create a DataFrame for visualization\n",
    "importance_df = pd.DataFrame({\n",
    "    'Feature': feature_names,\n",
    "    'Importance': importances\n",
    "})\n",
    "\n",
    "# Sort by importance\n",
    "importance_df = importance_df.sort_values(by='Importance', ascending=False)\n",
    "\n",
    "print(importance_df)"
   ]
  },
  {
   "cell_type": "code",
   "execution_count": 179,
   "id": "ae7c4d5f",
   "metadata": {},
   "outputs": [
    {
     "name": "stdout",
     "output_type": "stream",
     "text": [
      "Accuracy: 0.5261\n"
     ]
    }
   ],
   "source": [
    "accuracy = accuracy_score(y_test, y_pred)\n",
    "print(f'Accuracy: {accuracy:.4f}')"
   ]
  },
  {
   "cell_type": "code",
   "execution_count": 180,
   "id": "2d478ee4",
   "metadata": {},
   "outputs": [
    {
     "name": "stdout",
     "output_type": "stream",
     "text": [
      "Classification Report:\n",
      "               precision    recall  f1-score   support\n",
      "\n",
      "           0       0.54      0.57      0.55     42997\n",
      "           1       0.51      0.48      0.49     40056\n",
      "\n",
      "    accuracy                           0.53     83053\n",
      "   macro avg       0.52      0.52      0.52     83053\n",
      "weighted avg       0.53      0.53      0.53     83053\n",
      "\n"
     ]
    }
   ],
   "source": [
    "print(\"Classification Report:\\n\", classification_report(y_test, y_pred))"
   ]
  },
  {
   "cell_type": "code",
   "execution_count": 181,
   "id": "7e0fc26a",
   "metadata": {},
   "outputs": [
    {
     "name": "stdout",
     "output_type": "stream",
     "text": [
      "Confusion Matrix:\n",
      " [[24488 18509]\n",
      " [20848 19208]]\n"
     ]
    }
   ],
   "source": [
    "# Print confusion matrix\n",
    "print(\"Confusion Matrix:\\n\", confusion_matrix(y_test, y_pred))"
   ]
  },
  {
   "cell_type": "code",
   "execution_count": null,
   "id": "594a34be",
   "metadata": {},
   "outputs": [],
   "source": []
  }
 ],
 "metadata": {
  "kernelspec": {
   "display_name": "Python 3 (ipykernel)",
   "language": "python",
   "name": "python3"
  },
  "language_info": {
   "codemirror_mode": {
    "name": "ipython",
    "version": 3
   },
   "file_extension": ".py",
   "mimetype": "text/x-python",
   "name": "python",
   "nbconvert_exporter": "python",
   "pygments_lexer": "ipython3",
   "version": "3.11.8"
  }
 },
 "nbformat": 4,
 "nbformat_minor": 5
}
