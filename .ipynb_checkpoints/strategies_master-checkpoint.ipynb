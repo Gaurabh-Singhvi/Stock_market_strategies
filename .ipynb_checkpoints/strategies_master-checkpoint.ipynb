{
 "cells": [
  {
   "cell_type": "code",
   "execution_count": 2,
   "id": "dcef2662",
   "metadata": {},
   "outputs": [],
   "source": [
    "import pandas as pd\n",
    "import numpy as np\n",
    "import warnings\n",
    "warnings.filterwarnings('ignore')"
   ]
  },
  {
   "cell_type": "code",
   "execution_count": 3,
   "id": "29fa61e1",
   "metadata": {},
   "outputs": [],
   "source": [
    "def calculate_ema(data, window):\n",
    "    return data.ewm(span=window, adjust=False).mean()"
   ]
  },
  {
   "cell_type": "code",
   "execution_count": 4,
   "id": "34b49efe",
   "metadata": {},
   "outputs": [],
   "source": [
    "def strategy_10_ema_crossing(data):\n",
    "    data['10_EMA'] = calculate_ema(data['Adj Close'], 10)\n",
    "    data['Signal'] = 0\n",
    "    data['Signal'][10:] = np.where(data['Adj Close'][10:] > data['10_EMA'][10:], 1, 0)\n",
    "    data['Position'] = data['Signal'].diff()\n",
    "    data['Position'].replace(-1, 0, inplace=True)\n",
    "    return data[['Date','Position','Stock Name']]"
   ]
  },
  {
   "cell_type": "code",
   "execution_count": 5,
   "id": "6ce1e799",
   "metadata": {},
   "outputs": [],
   "source": [
    "def strategy_20_ema_crossing(data):\n",
    "    data['20_EMA'] = calculate_ema(data['Adj Close'], 20)\n",
    "    data['Signal'] = 0\n",
    "    data['Signal'][20:] = np.where(data['Adj Close'][20:] > data['20_EMA'][20:], 1, 0)\n",
    "    data['Position'] = data['Signal'].diff()\n",
    "    data['Position'].replace(-1, 0, inplace=True)\n",
    "    return data[['Date','Position','Stock Name']]"
   ]
  },
  {
   "cell_type": "code",
   "execution_count": 6,
   "id": "4f3ecb49",
   "metadata": {},
   "outputs": [],
   "source": [
    "def strategy_20_ema_crossing_50_ema(data):\n",
    "    data['20_EMA'] = calculate_ema(data['Adj Close'], 20)\n",
    "    data['50_EMA'] = calculate_ema(data['Adj Close'], 50)\n",
    "    data['Signal'] = 0\n",
    "    data['Signal'][50:] = np.where(data['20_EMA'][50:] > data['50_EMA'][50:], 1, 0)\n",
    "    data['Position'] = data['Signal'].diff()\n",
    "    data['Position'].replace(-1, 0, inplace=True)\n",
    "    return data[['Date','Position','Stock Name']]"
   ]
  },
  {
   "cell_type": "code",
   "execution_count": 20,
   "id": "a17b6386",
   "metadata": {},
   "outputs": [],
   "source": [
    "def strategy_10_ema_crossing_20_ema(data):\n",
    "    data['10_EMA'] = calculate_ema(data['Adj Close'], 10)\n",
    "    data['20_EMA'] = calculate_ema(data['Adj Close'], 20)\n",
    "    data['Signal'] = 0\n",
    "    data['Signal'][20:] = np.where(data['10_EMA'][20:] > data['20_EMA'][20:], 1, 0)\n",
    "    data['Position'] = data['Signal'].diff()\n",
    "    data['Position'].replace(-1, 0, inplace=True)\n",
    "    return data[['Date','Position','Stock Name']]"
   ]
  },
  {
   "cell_type": "code",
   "execution_count": 1,
   "id": "a19fd884",
   "metadata": {},
   "outputs": [],
   "source": [
    "def strategy_rsi_crossing_above_60(data, window=14, signal_value=60):\n",
    "    \n",
    "    delta = data['Adj Close'].diff()\n",
    "    gain = np.where(delta > 0, delta, 0)\n",
    "    loss = np.where(delta < 0, -delta, 0)\n",
    "    avg_gain = pd.Series(gain).ewm(alpha=1/window, adjust=False).mean()\n",
    "    avg_loss = pd.Series(loss).ewm(alpha=1/window, adjust=False).mean()\n",
    "\n",
    "    rs = avg_gain / avg_loss\n",
    "    data['RSI'] = 100 - (100 / (1 + rs))\n",
    "    \n",
    "    # Generate signals: 1 when RSI crosses above 60, 0 otherwise\n",
    "    data['Signal'] = np.where((data['RSI'].shift(1) < signal_value) & (data['RSI'] >= signal_value), 1, 0)\n",
    "\n",
    "    data['Position'] = data['Signal'].diff().fillna(0)\n",
    "\n",
    "    data['Position'].replace(-1, 0, inplace=True)\n",
    "\n",
    "    # Return relevant columns\n",
    "    return data[['Date','Position','Stock Name']]"
   ]
  },
  {
   "cell_type": "code",
   "execution_count": null,
   "id": "a9940f22",
   "metadata": {},
   "outputs": [],
   "source": []
  }
 ],
 "metadata": {
  "kernelspec": {
   "display_name": "Python 3 (ipykernel)",
   "language": "python",
   "name": "python3"
  },
  "language_info": {
   "codemirror_mode": {
    "name": "ipython",
    "version": 3
   },
   "file_extension": ".py",
   "mimetype": "text/x-python",
   "name": "python",
   "nbconvert_exporter": "python",
   "pygments_lexer": "ipython3",
   "version": "3.11.8"
  }
 },
 "nbformat": 4,
 "nbformat_minor": 5
}
