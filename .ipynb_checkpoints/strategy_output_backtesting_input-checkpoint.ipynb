{
 "cells": [
  {
   "cell_type": "code",
   "execution_count": 22,
   "id": "ba7a9411",
   "metadata": {},
   "outputs": [
    {
     "data": {
      "text/plain": [
       "<module 'strategies_master' from 'strategies_master.ipynb'>"
      ]
     },
     "execution_count": 22,
     "metadata": {},
     "output_type": "execute_result"
    }
   ],
   "source": [
    "import nbimporter\n",
    "import pandas as pd\n",
    "import numpy as np\n",
    "import strategies_master\n",
    "import inspect\n",
    "import warnings\n",
    "warnings.filterwarnings('ignore')\n",
    "import importlib\n",
    "importlib.reload(strategies_master)"
   ]
  },
  {
   "cell_type": "code",
   "execution_count": 2,
   "id": "c2b40fb5",
   "metadata": {},
   "outputs": [],
   "source": [
    "raw_data = pd.read_csv(r'C:\\Users\\40100171\\OneDrive - Anheuser-Busch InBev\\Desktop\\Stock_market_strategies\\data\\raw\\stock_data_raw.csv.gz', compression='gzip')\n",
    "raw_data['Date'] = pd.to_datetime(raw_data['Date'], format='mixed')\n",
    "raw_data = raw_data.drop_duplicates()\n",
    "list_of_stocks = raw_data['Stock Name'].unique().tolist()"
   ]
  },
  {
   "cell_type": "code",
   "execution_count": 3,
   "id": "f86bdeed",
   "metadata": {},
   "outputs": [],
   "source": [
    "def all_strategy_output_optimized(list_of_stocks):\n",
    "    stock_data_dict = {stock: raw_data.loc[raw_data['Stock Name'] == stock] for stock in list_of_stocks}\n",
    "    final_output = []\n",
    "    \n",
    "    for stock in list_of_stocks:\n",
    "        data = stock_data_dict[stock]\n",
    "        collector = []\n",
    "\n",
    "        # Iterate over all strategy functions\n",
    "        for name, func in inspect.getmembers(strategies_master, inspect.isfunction):\n",
    "            if name.startswith(\"strategy\"):\n",
    "                result = func(data)\n",
    "                result['strategy_name'] = name\n",
    "                collector.append(result)\n",
    "\n",
    "        # Concatenate all strategy results for the current stock\n",
    "        if collector:\n",
    "            collector_df = pd.concat(collector, ignore_index=True)\n",
    "            final_output.append(collector_df)\n",
    "\n",
    "    # Concatenate all stock results\n",
    "    if final_output:\n",
    "        final_output = pd.concat(final_output, ignore_index=True)\n",
    "        \n",
    "        # Replace -1 with 0 and fill NaNs\n",
    "        final_output['Position'].replace(-1, 0, inplace=True)\n",
    "        final_output = final_output.fillna(0)\n",
    "\n",
    "        # Pivot the data to the desired format\n",
    "        final_output = final_output.pivot_table(index=['Date', 'Stock Name'], columns='strategy_name', values='Position').reset_index()\n",
    "\n",
    "    return final_output\n"
   ]
  },
  {
   "cell_type": "code",
   "execution_count": 7,
   "id": "ad9d1ee5",
   "metadata": {},
   "outputs": [],
   "source": [
    "backtester_input = all_strategy_output_optimized(list_of_stocks)"
   ]
  },
  {
   "cell_type": "code",
   "execution_count": 29,
   "id": "5b0bf768",
   "metadata": {},
   "outputs": [
    {
     "data": {
      "text/html": [
       "<div>\n",
       "<style scoped>\n",
       "    .dataframe tbody tr th:only-of-type {\n",
       "        vertical-align: middle;\n",
       "    }\n",
       "\n",
       "    .dataframe tbody tr th {\n",
       "        vertical-align: top;\n",
       "    }\n",
       "\n",
       "    .dataframe thead th {\n",
       "        text-align: right;\n",
       "    }\n",
       "</style>\n",
       "<table border=\"1\" class=\"dataframe\">\n",
       "  <thead>\n",
       "    <tr style=\"text-align: right;\">\n",
       "      <th></th>\n",
       "      <th>Stock Name</th>\n",
       "      <th>Date</th>\n",
       "      <th>strategy_name</th>\n",
       "    </tr>\n",
       "  </thead>\n",
       "  <tbody>\n",
       "    <tr>\n",
       "      <th>16073</th>\n",
       "      <td>20microns.NS</td>\n",
       "      <td>2020-01-15</td>\n",
       "      <td>strategy_10_ema_crossing</td>\n",
       "    </tr>\n",
       "    <tr>\n",
       "      <th>16075</th>\n",
       "      <td>360one.NS</td>\n",
       "      <td>2020-01-15</td>\n",
       "      <td>strategy_10_ema_crossing</td>\n",
       "    </tr>\n",
       "    <tr>\n",
       "      <th>16076</th>\n",
       "      <td>3iinfoltd.NS</td>\n",
       "      <td>2020-01-15</td>\n",
       "      <td>strategy_10_ema_crossing</td>\n",
       "    </tr>\n",
       "    <tr>\n",
       "      <th>16077</th>\n",
       "      <td>3mindia.NS</td>\n",
       "      <td>2020-01-15</td>\n",
       "      <td>strategy_10_ema_crossing</td>\n",
       "    </tr>\n",
       "    <tr>\n",
       "      <th>16078</th>\n",
       "      <td>3pland.NS</td>\n",
       "      <td>2020-01-15</td>\n",
       "      <td>strategy_10_ema_crossing</td>\n",
       "    </tr>\n",
       "    <tr>\n",
       "      <th>...</th>\n",
       "      <td>...</td>\n",
       "      <td>...</td>\n",
       "      <td>...</td>\n",
       "    </tr>\n",
       "    <tr>\n",
       "      <th>6391473</th>\n",
       "      <td>shripiston.NS</td>\n",
       "      <td>2024-08-19</td>\n",
       "      <td>strategy_20_ema_crossing_50_ema</td>\n",
       "    </tr>\n",
       "    <tr>\n",
       "      <th>6391480</th>\n",
       "      <td>siemens.NS</td>\n",
       "      <td>2024-08-19</td>\n",
       "      <td>strategy_20_ema_crossing_50_ema</td>\n",
       "    </tr>\n",
       "    <tr>\n",
       "      <th>6391671</th>\n",
       "      <td>titan.NS</td>\n",
       "      <td>2024-08-19</td>\n",
       "      <td>strategy_20_ema_crossing_50_ema</td>\n",
       "    </tr>\n",
       "    <tr>\n",
       "      <th>6391780</th>\n",
       "      <td>visakaind.NS</td>\n",
       "      <td>2024-08-19</td>\n",
       "      <td>strategy_20_ema_crossing_50_ema</td>\n",
       "    </tr>\n",
       "    <tr>\n",
       "      <th>6391802</th>\n",
       "      <td>weizmanind.NS</td>\n",
       "      <td>2024-08-19</td>\n",
       "      <td>strategy_20_ema_crossing_50_ema</td>\n",
       "    </tr>\n",
       "  </tbody>\n",
       "</table>\n",
       "<p>333977 rows × 3 columns</p>\n",
       "</div>"
      ],
      "text/plain": [
       "            Stock Name       Date                    strategy_name\n",
       "16073     20microns.NS 2020-01-15         strategy_10_ema_crossing\n",
       "16075        360one.NS 2020-01-15         strategy_10_ema_crossing\n",
       "16076     3iinfoltd.NS 2020-01-15         strategy_10_ema_crossing\n",
       "16077       3mindia.NS 2020-01-15         strategy_10_ema_crossing\n",
       "16078        3pland.NS 2020-01-15         strategy_10_ema_crossing\n",
       "...                ...        ...                              ...\n",
       "6391473  shripiston.NS 2024-08-19  strategy_20_ema_crossing_50_ema\n",
       "6391480     siemens.NS 2024-08-19  strategy_20_ema_crossing_50_ema\n",
       "6391671       titan.NS 2024-08-19  strategy_20_ema_crossing_50_ema\n",
       "6391780   visakaind.NS 2024-08-19  strategy_20_ema_crossing_50_ema\n",
       "6391802  weizmanind.NS 2024-08-19  strategy_20_ema_crossing_50_ema\n",
       "\n",
       "[333977 rows x 3 columns]"
      ]
     },
     "execution_count": 29,
     "metadata": {},
     "output_type": "execute_result"
    }
   ],
   "source": [
    "backtester_input = backtester_input.melt(id_vars=[\"Stock Name\", \"Date\"], value_name= \"Occurence\", value_vars=backtester_input.set_index([\"Date\", \"Stock Name\"]).columns.tolist()).rename({\"variable\":\"Strategy\"}, axis = 1).query(\"Occurence == 1\").drop([\"Occurence\"], axis = 1)"
   ]
  },
  {
   "cell_type": "code",
   "execution_count": 8,
   "id": "911cc93b",
   "metadata": {},
   "outputs": [],
   "source": [
    "backtester_input.to_csv(r'C:\\Users\\40100171\\OneDrive - Anheuser-Busch InBev\\Desktop\\Stock_market_strategies\\backtester_input.csv.gz', index=False, compression='gzip')"
   ]
  },
  {
   "cell_type": "code",
   "execution_count": null,
   "id": "87dd4b1e",
   "metadata": {},
   "outputs": [],
   "source": []
  }
 ],
 "metadata": {
  "kernelspec": {
   "display_name": "Python 3 (ipykernel)",
   "language": "python",
   "name": "python3"
  },
  "language_info": {
   "codemirror_mode": {
    "name": "ipython",
    "version": 3
   },
   "file_extension": ".py",
   "mimetype": "text/x-python",
   "name": "python",
   "nbconvert_exporter": "python",
   "pygments_lexer": "ipython3",
   "version": "3.11.8"
  }
 },
 "nbformat": 4,
 "nbformat_minor": 5
}
