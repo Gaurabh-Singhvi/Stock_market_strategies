{
 "cells": [
  {
   "cell_type": "code",
   "execution_count": 22,
   "id": "ba7a9411",
   "metadata": {},
   "outputs": [
    {
     "data": {
      "text/plain": [
       "<module 'strategies_master' from 'strategies_master.ipynb'>"
      ]
     },
     "execution_count": 22,
     "metadata": {},
     "output_type": "execute_result"
    }
   ],
   "source": [
    "import nbimporter\n",
    "import pandas as pd\n",
    "import numpy as np\n",
    "import strategies_master\n",
    "import inspect\n",
    "import warnings\n",
    "warnings.filterwarnings('ignore')\n",
    "import importlib\n",
    "importlib.reload(strategies_master)"
   ]
  },
  {
   "cell_type": "code",
   "execution_count": 2,
   "id": "c2b40fb5",
   "metadata": {},
   "outputs": [],
   "source": [
    "raw_data = pd.read_csv(r'C:\\Users\\40100171\\OneDrive - Anheuser-Busch InBev\\Desktop\\Stock_market_strategies\\data\\raw\\stock_data_raw.csv.gz', compression='gzip')\n",
    "raw_data['Date'] = pd.to_datetime(raw_data['Date'], format='mixed')\n",
    "raw_data = raw_data.drop_duplicates()\n",
    "list_of_stocks = raw_data['Stock Name'].unique().tolist()"
   ]
  },
  {
   "cell_type": "code",
   "execution_count": 3,
   "id": "f86bdeed",
   "metadata": {},
   "outputs": [],
   "source": [
    "def all_strategy_output_optimized(list_of_stocks):\n",
    "    stock_data_dict = {stock: raw_data.loc[raw_data['Stock Name'] == stock] for stock in list_of_stocks}\n",
    "    final_output = []\n",
    "    \n",
    "    for stock in list_of_stocks:\n",
    "        data = stock_data_dict[stock]\n",
    "        collector = []\n",
    "\n",
    "        # Iterate over all strategy functions\n",
    "        for name, func in inspect.getmembers(strategies_master, inspect.isfunction):\n",
    "            if name.startswith(\"strategy\"):\n",
    "                result = func(data)\n",
    "                result['strategy_name'] = name\n",
    "                collector.append(result)\n",
    "\n",
    "        # Concatenate all strategy results for the current stock\n",
    "        if collector:\n",
    "            collector_df = pd.concat(collector, ignore_index=True)\n",
    "            final_output.append(collector_df)\n",
    "\n",
    "    # Concatenate all stock results\n",
    "    if final_output:\n",
    "        final_output = pd.concat(final_output, ignore_index=True)\n",
    "        \n",
    "        # Replace -1 with 0 and fill NaNs\n",
    "        final_output['Position'].replace(-1, 0, inplace=True)\n",
    "        final_output = final_output.fillna(0)\n",
    "\n",
    "        # Pivot the data to the desired format\n",
    "        final_output = final_output.pivot_table(index=['Date', 'Stock Name'], columns='strategy_name', values='Position').reset_index()\n",
    "\n",
    "    return final_output\n"
   ]
  },
  {
   "cell_type": "code",
   "execution_count": 7,
   "id": "ad9d1ee5",
   "metadata": {},
   "outputs": [],
   "source": [
    "backtester_input = all_strategy_output_optimized(list_of_stocks)"
   ]
  },
  {
   "cell_type": "code",
   "execution_count": 8,
   "id": "911cc93b",
   "metadata": {},
   "outputs": [],
   "source": [
    "backtester_input.to_csv(r'C:\\Users\\40100171\\OneDrive - Anheuser-Busch InBev\\Desktop\\Stock_market_strategies\\backtester_input.csv.gz', index=False, compression='gzip')"
   ]
  },
  {
   "cell_type": "code",
   "execution_count": 13,
   "id": "048c1a6c",
   "metadata": {},
   "outputs": [],
   "source": [
    "check = raw_data.loc[raw_data['Stock Name']=='reliance.NS',]"
   ]
  },
  {
   "cell_type": "code",
   "execution_count": 24,
   "id": "9e0cf1a8",
   "metadata": {},
   "outputs": [
    {
     "data": {
      "text/html": [
       "<div>\n",
       "<style scoped>\n",
       "    .dataframe tbody tr th:only-of-type {\n",
       "        vertical-align: middle;\n",
       "    }\n",
       "\n",
       "    .dataframe tbody tr th {\n",
       "        vertical-align: top;\n",
       "    }\n",
       "\n",
       "    .dataframe thead th {\n",
       "        text-align: right;\n",
       "    }\n",
       "</style>\n",
       "<table border=\"1\" class=\"dataframe\">\n",
       "  <thead>\n",
       "    <tr style=\"text-align: right;\">\n",
       "      <th></th>\n",
       "      <th>Date</th>\n",
       "      <th>Position</th>\n",
       "      <th>Stock Name</th>\n",
       "      <th>RSI</th>\n",
       "    </tr>\n",
       "  </thead>\n",
       "  <tbody>\n",
       "    <tr>\n",
       "      <th>0</th>\n",
       "      <td>2020-01-01</td>\n",
       "      <td>0.0</td>\n",
       "      <td>reliance.NS</td>\n",
       "      <td>NaN</td>\n",
       "    </tr>\n",
       "    <tr>\n",
       "      <th>1</th>\n",
       "      <td>2020-01-02</td>\n",
       "      <td>0.0</td>\n",
       "      <td>reliance.NS</td>\n",
       "      <td>NaN</td>\n",
       "    </tr>\n",
       "    <tr>\n",
       "      <th>2</th>\n",
       "      <td>2020-01-03</td>\n",
       "      <td>0.0</td>\n",
       "      <td>reliance.NS</td>\n",
       "      <td>NaN</td>\n",
       "    </tr>\n",
       "    <tr>\n",
       "      <th>3</th>\n",
       "      <td>2020-01-06</td>\n",
       "      <td>0.0</td>\n",
       "      <td>reliance.NS</td>\n",
       "      <td>NaN</td>\n",
       "    </tr>\n",
       "    <tr>\n",
       "      <th>4</th>\n",
       "      <td>2020-01-07</td>\n",
       "      <td>0.0</td>\n",
       "      <td>reliance.NS</td>\n",
       "      <td>NaN</td>\n",
       "    </tr>\n",
       "    <tr>\n",
       "      <th>...</th>\n",
       "      <td>...</td>\n",
       "      <td>...</td>\n",
       "      <td>...</td>\n",
       "      <td>...</td>\n",
       "    </tr>\n",
       "    <tr>\n",
       "      <th>1142</th>\n",
       "      <td>2024-08-13</td>\n",
       "      <td>0.0</td>\n",
       "      <td>reliance.NS</td>\n",
       "      <td>41.923731</td>\n",
       "    </tr>\n",
       "    <tr>\n",
       "      <th>1143</th>\n",
       "      <td>2024-08-14</td>\n",
       "      <td>0.0</td>\n",
       "      <td>reliance.NS</td>\n",
       "      <td>42.248170</td>\n",
       "    </tr>\n",
       "    <tr>\n",
       "      <th>2126433</th>\n",
       "      <td>2024-08-14</td>\n",
       "      <td>0.0</td>\n",
       "      <td>reliance.NS</td>\n",
       "      <td>38.614714</td>\n",
       "    </tr>\n",
       "    <tr>\n",
       "      <th>2126434</th>\n",
       "      <td>2024-08-16</td>\n",
       "      <td>0.0</td>\n",
       "      <td>reliance.NS</td>\n",
       "      <td>40.330428</td>\n",
       "    </tr>\n",
       "    <tr>\n",
       "      <th>2126435</th>\n",
       "      <td>2024-08-19</td>\n",
       "      <td>0.0</td>\n",
       "      <td>reliance.NS</td>\n",
       "      <td>44.923154</td>\n",
       "    </tr>\n",
       "  </tbody>\n",
       "</table>\n",
       "<p>1147 rows × 4 columns</p>\n",
       "</div>"
      ],
      "text/plain": [
       "              Date  Position   Stock Name        RSI\n",
       "0       2020-01-01       0.0  reliance.NS        NaN\n",
       "1       2020-01-02       0.0  reliance.NS        NaN\n",
       "2       2020-01-03       0.0  reliance.NS        NaN\n",
       "3       2020-01-06       0.0  reliance.NS        NaN\n",
       "4       2020-01-07       0.0  reliance.NS        NaN\n",
       "...            ...       ...          ...        ...\n",
       "1142    2024-08-13       0.0  reliance.NS  41.923731\n",
       "1143    2024-08-14       0.0  reliance.NS  42.248170\n",
       "2126433 2024-08-14       0.0  reliance.NS  38.614714\n",
       "2126434 2024-08-16       0.0  reliance.NS  40.330428\n",
       "2126435 2024-08-19       0.0  reliance.NS  44.923154\n",
       "\n",
       "[1147 rows x 4 columns]"
      ]
     },
     "execution_count": 24,
     "metadata": {},
     "output_type": "execute_result"
    }
   ],
   "source": [
    "strategies_master.strategy_rsi_crossing_above_60(check)"
   ]
  },
  {
   "cell_type": "code",
   "execution_count": null,
   "id": "ddcf5d99",
   "metadata": {},
   "outputs": [],
   "source": []
  }
 ],
 "metadata": {
  "kernelspec": {
   "display_name": "Python 3 (ipykernel)",
   "language": "python",
   "name": "python3"
  },
  "language_info": {
   "codemirror_mode": {
    "name": "ipython",
    "version": 3
   },
   "file_extension": ".py",
   "mimetype": "text/x-python",
   "name": "python",
   "nbconvert_exporter": "python",
   "pygments_lexer": "ipython3",
   "version": "3.11.8"
  }
 },
 "nbformat": 4,
 "nbformat_minor": 5
}
