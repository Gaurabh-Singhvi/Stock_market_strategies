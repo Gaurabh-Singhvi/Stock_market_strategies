{
 "cells": [
  {
   "cell_type": "code",
   "execution_count": 1,
   "metadata": {},
   "outputs": [],
   "source": [
    "import pandas as pd"
   ]
  },
  {
   "cell_type": "code",
   "execution_count": 2,
   "metadata": {},
   "outputs": [],
   "source": [
    "df = pd.read_csv(\"/Users/akash/git/stock_market_strategies/stock_market_strategies/data/stock_data_raw.csv\")"
   ]
  },
  {
   "cell_type": "code",
   "execution_count": 3,
   "metadata": {},
   "outputs": [
    {
     "data": {
      "text/html": [
       "<div>\n",
       "<style scoped>\n",
       "    .dataframe tbody tr th:only-of-type {\n",
       "        vertical-align: middle;\n",
       "    }\n",
       "\n",
       "    .dataframe tbody tr th {\n",
       "        vertical-align: top;\n",
       "    }\n",
       "\n",
       "    .dataframe thead th {\n",
       "        text-align: right;\n",
       "    }\n",
       "</style>\n",
       "<table border=\"1\" class=\"dataframe\">\n",
       "  <thead>\n",
       "    <tr style=\"text-align: right;\">\n",
       "      <th></th>\n",
       "      <th>Date</th>\n",
       "      <th>Open</th>\n",
       "      <th>High</th>\n",
       "      <th>Low</th>\n",
       "      <th>Close</th>\n",
       "      <th>Adj Close</th>\n",
       "      <th>Volume</th>\n",
       "      <th>Stock Name</th>\n",
       "    </tr>\n",
       "  </thead>\n",
       "  <tbody>\n",
       "    <tr>\n",
       "      <th>0</th>\n",
       "      <td>2020-01-01</td>\n",
       "      <td>1387.957031</td>\n",
       "      <td>1396.277466</td>\n",
       "      <td>1376.527954</td>\n",
       "      <td>1380.276611</td>\n",
       "      <td>1356.042725</td>\n",
       "      <td>7002234.0</td>\n",
       "      <td>reliance.NS</td>\n",
       "    </tr>\n",
       "    <tr>\n",
       "      <th>1</th>\n",
       "      <td>2020-01-02</td>\n",
       "      <td>1382.471069</td>\n",
       "      <td>1408.941040</td>\n",
       "      <td>1382.471069</td>\n",
       "      <td>1403.775024</td>\n",
       "      <td>1379.128662</td>\n",
       "      <td>8855158.0</td>\n",
       "      <td>reliance.NS</td>\n",
       "    </tr>\n",
       "    <tr>\n",
       "      <th>2</th>\n",
       "      <td>2020-01-03</td>\n",
       "      <td>1401.671997</td>\n",
       "      <td>1409.581055</td>\n",
       "      <td>1392.528687</td>\n",
       "      <td>1405.466553</td>\n",
       "      <td>1380.790527</td>\n",
       "      <td>10492349.0</td>\n",
       "      <td>reliance.NS</td>\n",
       "    </tr>\n",
       "    <tr>\n",
       "      <th>3</th>\n",
       "      <td>2020-01-06</td>\n",
       "      <td>1389.785767</td>\n",
       "      <td>1397.008911</td>\n",
       "      <td>1369.670410</td>\n",
       "      <td>1372.870605</td>\n",
       "      <td>1348.766846</td>\n",
       "      <td>12259588.0</td>\n",
       "      <td>reliance.NS</td>\n",
       "    </tr>\n",
       "    <tr>\n",
       "      <th>4</th>\n",
       "      <td>2020-01-07</td>\n",
       "      <td>1388.871338</td>\n",
       "      <td>1403.043579</td>\n",
       "      <td>1383.842529</td>\n",
       "      <td>1393.991699</td>\n",
       "      <td>1369.517090</td>\n",
       "      <td>8341811.0</td>\n",
       "      <td>reliance.NS</td>\n",
       "    </tr>\n",
       "  </tbody>\n",
       "</table>\n",
       "</div>"
      ],
      "text/plain": [
       "         Date         Open         High          Low        Close  \\\n",
       "0  2020-01-01  1387.957031  1396.277466  1376.527954  1380.276611   \n",
       "1  2020-01-02  1382.471069  1408.941040  1382.471069  1403.775024   \n",
       "2  2020-01-03  1401.671997  1409.581055  1392.528687  1405.466553   \n",
       "3  2020-01-06  1389.785767  1397.008911  1369.670410  1372.870605   \n",
       "4  2020-01-07  1388.871338  1403.043579  1383.842529  1393.991699   \n",
       "\n",
       "     Adj Close      Volume   Stock Name  \n",
       "0  1356.042725   7002234.0  reliance.NS  \n",
       "1  1379.128662   8855158.0  reliance.NS  \n",
       "2  1380.790527  10492349.0  reliance.NS  \n",
       "3  1348.766846  12259588.0  reliance.NS  \n",
       "4  1369.517090   8341811.0  reliance.NS  "
      ]
     },
     "execution_count": 3,
     "metadata": {},
     "output_type": "execute_result"
    }
   ],
   "source": [
    "df.head()"
   ]
  },
  {
   "cell_type": "code",
   "execution_count": 6,
   "metadata": {},
   "outputs": [
    {
     "data": {
      "text/plain": [
       "array(['reliance.NS', 'tcs.NS', 'hdfcbank.NS', ..., 'lakpre.NS',\n",
       "       'vasa.NS', 'cmmipl.NS'], dtype=object)"
      ]
     },
     "execution_count": 6,
     "metadata": {},
     "output_type": "execute_result"
    }
   ],
   "source": [
    "df[\"Stock Name\"].unique()"
   ]
  },
  {
   "cell_type": "code",
   "execution_count": 5,
   "metadata": {},
   "outputs": [
    {
     "data": {
      "text/plain": [
       "count        2132856\n",
       "unique          1147\n",
       "top       2024-03-28\n",
       "freq            2240\n",
       "Name: Date, dtype: object"
      ]
     },
     "execution_count": 5,
     "metadata": {},
     "output_type": "execute_result"
    }
   ],
   "source": [
    "df[\"Date\"].describe()"
   ]
  },
  {
   "cell_type": "code",
   "execution_count": null,
   "metadata": {},
   "outputs": [],
   "source": []
  }
 ],
 "metadata": {
  "kernelspec": {
   "display_name": ".venv",
   "language": "python",
   "name": "python3"
  },
  "language_info": {
   "codemirror_mode": {
    "name": "ipython",
    "version": 3
   },
   "file_extension": ".py",
   "mimetype": "text/x-python",
   "name": "python",
   "nbconvert_exporter": "python",
   "pygments_lexer": "ipython3",
   "version": "3.12.3"
  }
 },
 "nbformat": 4,
 "nbformat_minor": 2
}
